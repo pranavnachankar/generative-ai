{
  "nbformat": 4,
  "nbformat_minor": 0,
  "metadata": {
    "colab": {
      "provenance": []
    },
    "kernelspec": {
      "name": "python3",
      "display_name": "Python 3"
    },
    "language_info": {
      "name": "python"
    }
  },
  "cells": [
    {
      "cell_type": "markdown",
      "source": [
        "**NLP**\n",
        "- Intro\n",
        "- What is NLP\n",
        "- Real world application\n",
        "- Common NLP tasks\n",
        "- Challenges"
      ],
      "metadata": {
        "id": "OKl6Fg5r-kck"
      }
    },
    {
      "cell_type": "markdown",
      "source": [
        "**NLP Pipeline :**\n",
        "\n",
        "- NLP is set of steps followed to build an end to end NLP software\n",
        "- It consists following steps :\n",
        "    - Data Acquasiion\n",
        "    - Text Preparation\n",
        "    - Feature Engineering\n",
        "    - Modeling\n",
        "    - Deployment\n"
      ],
      "metadata": {
        "id": "Y87vtbtdrzcL"
      }
    },
    {
      "cell_type": "markdown",
      "source": [
        "**Data Acquasiion**\n",
        "- Data Available\n",
        "    - Table (have your own sample data)\n",
        "    - Database (owned by Data Engineering Team)\n",
        "    - Less data : here needs to perform Data Augumentation process like `n-gram , back-translate, add a noisey data, etc to generate synthetic data)\n",
        "- Other Data (not what you are looking or data outside your organization)\n",
        "- Nobody have"
      ],
      "metadata": {
        "id": "uq04I4UXzn-f"
      }
    },
    {
      "cell_type": "markdown",
      "source": [
        "**Text Preparation**\n",
        "- Basic text clean\n",
        "    - html tags, emojies, spell checking\n",
        "- Basic text pre-processing\n",
        "    - Basic (tokenization[word/text])\n",
        "- Optional\n",
        "    - language check\n",
        "    - stop word remover\n",
        "    - stemming\n",
        "    - Lemmatization\n",
        "    - remove punctuations, digis\n",
        "\n",
        "- Advacne text pre-processing\n",
        "    - POS (Parts of Speech tagging)\n",
        "    - Parsing (understand the structure of sentence)\n",
        "    - Co-reference resolution (\n",
        "        e.g.: `My name is Pranav and I am Big data engineer.`\n",
        "        \n",
        "        so here; **Pranav** `=` **I am**\n",
        "        \n",
        "        check here : https://huggingface.co/coref/\n",
        "    )\n",
        "    \n"
      ],
      "metadata": {
        "id": "AvDfu0ub8KGB"
      }
    },
    {
      "cell_type": "markdown",
      "source": [
        "**Feature Engineering :**\n",
        "- Bag of Words\n",
        "- TF-IDF\n",
        "- One Hot Encoding\n",
        "- Word2Vec, etc..etc.."
      ],
      "metadata": {
        "id": "QSufE6xMwFjZ"
      }
    },
    {
      "cell_type": "markdown",
      "source": [
        "**Modeling :**\n",
        "- Modeling Approach\n",
        "    - Heuristic (on less data)\n",
        "    - ML Algos (on limited data)\n",
        "    - DL Algos (on large data)\n",
        "    - Cloud APIs (low infra + large data + contineous update data)\n",
        "\n",
        "- Evaluation :\n",
        "    - Intrinsic :\n",
        "        - checking perfomce based on ML matrix\n",
        "    - Extrinsic :\n",
        "        - after deploying model, evaluating a model on Business settings (\n",
        "            take a example of modern keyboards in smartphone where it's suggesting next word for the sentence which you have typed but if the users are not using this feature then it's ineffective.\n",
        "        )"
      ],
      "metadata": {
        "id": "Y7i4PsDZ5TZY"
      }
    },
    {
      "cell_type": "markdown",
      "source": [
        "**Deployment :**\n",
        "- Depolyment\n",
        "- Monitering\n",
        "- Update"
      ],
      "metadata": {
        "id": "2mF0vcd_8ipz"
      }
    }
  ]
}