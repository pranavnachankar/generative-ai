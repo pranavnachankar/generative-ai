{
 "cells": [
  {
   "cell_type": "markdown",
   "id": "40600685-79d3-40d2-b32c-ca4cb7ac5c45",
   "metadata": {},
   "source": [
    "### Getting Started With Open source Models Using Groq API\n",
    "\n",
    "A simple LLM application with LangChain. This application will translate text from English into another language. Understood th following :\n",
    "\n",
    "- use Language models\n",
    "- use PromptTemplates and OutputParsers\n",
    "- use LangChain Expression LangChain Language (LCEL) to chain components together\n",
    "- Debug and tracing application using LangSmith\n",
    "- Deploy application with LangServe"
   ]
  },
  {
   "cell_type": "code",
   "execution_count": null,
   "id": "bf7b6506-bd51-4daa-8d73-cb8785348316",
   "metadata": {},
   "outputs": [],
   "source": [
    "### OpenAI api key and Open Source models -- Llama3, Gemma2, Mistral -- Groq\n",
    "\n",
    "# Groq : https://groq.com/\n"
   ]
  }
 ],
 "metadata": {
  "environment": {
   "kernel": "python3",
   "name": "common-cpu.m124",
   "type": "gcloud",
   "uri": "us-docker.pkg.dev/deeplearning-platform-release/gcr.io/base-cpu:m124"
  },
  "kernelspec": {
   "display_name": "Python 3 (Local)",
   "language": "python",
   "name": "python3"
  },
  "language_info": {
   "codemirror_mode": {
    "name": "ipython",
    "version": 3
   },
   "file_extension": ".py",
   "mimetype": "text/x-python",
   "name": "python",
   "nbconvert_exporter": "python",
   "pygments_lexer": "ipython3",
   "version": "3.10.14"
  }
 },
 "nbformat": 4,
 "nbformat_minor": 5
}
