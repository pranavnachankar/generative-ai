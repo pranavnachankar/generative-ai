{
 "cells": [
  {
   "cell_type": "markdown",
   "id": "40600685-79d3-40d2-b32c-ca4cb7ac5c45",
   "metadata": {},
   "source": [
    "### Getting Started With Open source Models Using Groq API\n",
    "\n",
    "A simple LLM application with LangChain. This application will translate text from English into another language. Understood th following :\n",
    "\n",
    "- use Language models\n",
    "- use PromptTemplates and OutputParsers\n",
    "- use LangChain Expression LangChain Language (LCEL) to chain components together\n",
    "- Debug and tracing application using LangSmith\n",
    "- Deploy application with LangServe"
   ]
  },
  {
   "cell_type": "code",
   "execution_count": 1,
   "id": "bf7b6506-bd51-4daa-8d73-cb8785348316",
   "metadata": {},
   "outputs": [],
   "source": [
    "### OpenAI api key and Open Source models -- Llama3, Gemma2, Mistral -- Groq\n",
    "\n",
    "# Groq : https://groq.com/"
   ]
  },
  {
   "cell_type": "code",
   "execution_count": 11,
   "id": "b93dcdcb-7872-4351-9fac-9aed78b70478",
   "metadata": {
    "tags": []
   },
   "outputs": [],
   "source": [
    "import os\n",
    "from dotenv import load_dotenv\n",
    "load_dotenv()\n",
    "\n",
    "#Import API keys\n",
    "GENERATIVE_AI_API_KEY = os.getenv(\"GENERATIVE_AI_API_KEY\")\n",
    "GROQ_API_KEY = os.getenv(\"GROQ_API_KEY\")"
   ]
  },
  {
   "cell_type": "code",
   "execution_count": 12,
   "id": "7b767d64-62cc-4ae1-865e-17c9f5fc9ced",
   "metadata": {
    "tags": []
   },
   "outputs": [
    {
     "data": {
      "text/plain": [
       "ChatGroq(client=<groq.resources.chat.completions.Completions object at 0x7fe574ca2110>, async_client=<groq.resources.chat.completions.AsyncCompletions object at 0x7fe574ca0d30>, model_name='gemma2-9b-it', model_kwargs={}, groq_api_key=SecretStr('**********'))"
      ]
     },
     "execution_count": 12,
     "metadata": {},
     "output_type": "execute_result"
    }
   ],
   "source": [
    "from langchain_groq import ChatGroq\n",
    "model = ChatGroq(model=\"gemma2-9b-it\", groq_api_key=GROQ_API_KEY)\n",
    "model"
   ]
  },
  {
   "cell_type": "code",
   "execution_count": 17,
   "id": "f50e828d-da5e-4cef-ac35-0a232575262a",
   "metadata": {
    "tags": []
   },
   "outputs": [],
   "source": [
    "from langchain_core.messages import HumanMessage, SystemMessage\n",
    "\n",
    "messages = [\n",
    "    SystemMessage(content=\"Translate the following from English to Hindi\"),\n",
    "    HumanMessage(content=\"How are you ?\")\n",
    "]\n",
    "\n",
    "result = model.invoke(messages)"
   ]
  },
  {
   "cell_type": "code",
   "execution_count": 18,
   "id": "54b5de76-db99-4316-a1f7-8ce734792f8e",
   "metadata": {
    "tags": []
   },
   "outputs": [
    {
     "data": {
      "text/plain": [
       "AIMessage(content='आप कैसे हैं? (aap kaise hain?) \\n\\n\\nThis is the most common and polite way to ask \"How are you?\" in Hindi. \\n', additional_kwargs={}, response_metadata={'token_usage': {'completion_tokens': 35, 'prompt_tokens': 20, 'total_tokens': 55, 'completion_time': 0.063636364, 'prompt_time': 9.981e-05, 'queue_time': 0.014160019, 'total_time': 0.063736174}, 'model_name': 'gemma2-9b-it', 'system_fingerprint': 'fp_10c08bf97d', 'finish_reason': 'stop', 'logprobs': None}, id='run-f06cf3fa-bb55-4b88-8372-13fc6fd1a4bf-0', usage_metadata={'input_tokens': 20, 'output_tokens': 35, 'total_tokens': 55})"
      ]
     },
     "execution_count": 18,
     "metadata": {},
     "output_type": "execute_result"
    }
   ],
   "source": [
    "result"
   ]
  },
  {
   "cell_type": "code",
   "execution_count": 19,
   "id": "31b6e746-4c34-4aa5-bd95-f98fac533634",
   "metadata": {
    "tags": []
   },
   "outputs": [
    {
     "data": {
      "text/plain": [
       "'आप कैसे हैं? (aap kaise hain?) \\n\\n\\nThis is the most common and polite way to ask \"How are you?\" in Hindi. \\n'"
      ]
     },
     "execution_count": 19,
     "metadata": {},
     "output_type": "execute_result"
    }
   ],
   "source": [
    "from langchain_core.output_parsers import StrOutputParser\n",
    "parser = StrOutputParser()\n",
    "parser.invoke(result)"
   ]
  },
  {
   "cell_type": "code",
   "execution_count": null,
   "id": "70be4b82-aab7-42c2-b65e-b3907fec1b96",
   "metadata": {},
   "outputs": [],
   "source": [
    "## "
   ]
  }
 ],
 "metadata": {
  "environment": {
   "kernel": "python3",
   "name": "common-cpu.m124",
   "type": "gcloud",
   "uri": "us-docker.pkg.dev/deeplearning-platform-release/gcr.io/base-cpu:m124"
  },
  "kernelspec": {
   "display_name": "Python 3 (Local)",
   "language": "python",
   "name": "python3"
  },
  "language_info": {
   "codemirror_mode": {
    "name": "ipython",
    "version": 3
   },
   "file_extension": ".py",
   "mimetype": "text/x-python",
   "name": "python",
   "nbconvert_exporter": "python",
   "pygments_lexer": "ipython3",
   "version": "3.10.14"
  }
 },
 "nbformat": 4,
 "nbformat_minor": 5
}
