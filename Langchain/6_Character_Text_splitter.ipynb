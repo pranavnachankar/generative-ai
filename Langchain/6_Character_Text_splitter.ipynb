{
 "cells": [
  {
   "cell_type": "markdown",
   "id": "34c7865c-5e75-4336-af13-10a0ac6d30cc",
   "metadata": {},
   "source": [
    "## Character Text splitter"
   ]
  },
  {
   "cell_type": "markdown",
   "id": "331ca968-085b-4027-9fa1-922445bb924a",
   "metadata": {},
   "source": [
    "This splits is based on given chracter sequence, which defaults to `\\n\\n`. Chunk length is measured by number of characters.\n",
    "\n",
    "1. how the text is split :- by single charcter separator\n",
    "2. how chunk size is measured :- by number of characters"
   ]
  },
  {
   "cell_type": "markdown",
   "id": "f237af9c-6a82-4fdb-a514-ff4bd231820b",
   "metadata": {},
   "source": [
    "when to use `CharacterTextSplitter` :-\n",
    "\n",
    "Similar to the RecursiveCharacterTextSplitter, but it allows you to define a custom separator for more specific division. By default, it tries to split on characters like “\\n\\n”, “\\n”, “ “, and “”. However, some say that it doesn't use the chunk_size and chunk_overlap options in the splitting process."
   ]
  },
  {
   "cell_type": "code",
   "execution_count": 2,
   "id": "d1df71b5-8c59-49dd-a359-e359551b8e1c",
   "metadata": {
    "scrolled": true,
    "tags": []
   },
   "outputs": [
    {
     "data": {
      "text/plain": [
       "[Document(metadata={'source': 'data/speech.txt'}, page_content='## Generative AI: A New Era of Creativity\\n\\nGenerative AI, a subset of artificial intelligence, has emerged as a groundbreaking technology capable of creating new content, from text and images to music and code. By learning from vast datasets, these models can generate original works that are indistinguishable from human-created content.\\n\\nOne of the most prominent examples of generative AI is natural language processing (NLP). Large language models (LLMs) like GPT-3 and LaMDA can generate human-quality text, write different kinds of creative content, translate languages, and even write different kinds of creative content. These models are trained on massive amounts of text data, allowing them to understand and respond to prompts in a coherent and informative manner.\\n\\nIn the realm of image generation, generative adversarial networks (GANs) have revolutionized the field. GANs consist of two neural networks: a generator that creates new images and a discriminator that evaluates their authenticity. Through a competitive process, the generator learns to produce increasingly realistic images that deceive the discriminator. This technology has applications in various fields, including art, design, and gaming.\\n\\nBeyond text and images, generative AI can also create music, code, and even drug molecules. AI-generated music can be used to compose original pieces or to assist human musicians in their creative process. In software development, generative AI can help automate tasks like code generation and debugging. Additionally, researchers are exploring the potential of generative AI to discover new drug candidates by generating novel molecular structures.\\n\\nWhile generative AI offers immense potential, it also raises ethical concerns. The ability to create deepfakes and misinformation poses significant risks to society. Ensuring the responsible development and use of generative AI is crucial to mitigate these challenges.\\n\\nIn conclusion, generative AI is a rapidly evolving technology with the power to transform various industries. Its ability to create new and original content has far-reaching implications for creativity, productivity, and innovation. As we continue to explore the possibilities of generative AI, it is essential to address the ethical considerations associated with its development and use.')]"
      ]
     },
     "execution_count": 2,
     "metadata": {},
     "output_type": "execute_result"
    }
   ],
   "source": [
    "from langchain_community.document_loaders import TextLoader\n",
    "\n",
    "textLoader = TextLoader('data/speech.txt').load()\n",
    "textLoader"
   ]
  },
  {
   "cell_type": "code",
   "execution_count": 3,
   "id": "6a5d95ad-eab7-4340-9b95-fa1fba29aff7",
   "metadata": {
    "tags": []
   },
   "outputs": [
    {
     "name": "stderr",
     "output_type": "stream",
     "text": [
      "Created a chunk of size 295, which is longer than the specified 100\n",
      "Created a chunk of size 435, which is longer than the specified 100\n",
      "Created a chunk of size 443, which is longer than the specified 100\n",
      "Created a chunk of size 449, which is longer than the specified 100\n",
      "Created a chunk of size 268, which is longer than the specified 100\n"
     ]
    },
    {
     "data": {
      "text/plain": [
       "[Document(metadata={'source': 'data/speech.txt'}, page_content='## Generative AI: A New Era of Creativity'),\n",
       " Document(metadata={'source': 'data/speech.txt'}, page_content='Generative AI, a subset of artificial intelligence, has emerged as a groundbreaking technology capable of creating new content, from text and images to music and code. By learning from vast datasets, these models can generate original works that are indistinguishable from human-created content.'),\n",
       " Document(metadata={'source': 'data/speech.txt'}, page_content='One of the most prominent examples of generative AI is natural language processing (NLP). Large language models (LLMs) like GPT-3 and LaMDA can generate human-quality text, write different kinds of creative content, translate languages, and even write different kinds of creative content. These models are trained on massive amounts of text data, allowing them to understand and respond to prompts in a coherent and informative manner.'),\n",
       " Document(metadata={'source': 'data/speech.txt'}, page_content='In the realm of image generation, generative adversarial networks (GANs) have revolutionized the field. GANs consist of two neural networks: a generator that creates new images and a discriminator that evaluates their authenticity. Through a competitive process, the generator learns to produce increasingly realistic images that deceive the discriminator. This technology has applications in various fields, including art, design, and gaming.'),\n",
       " Document(metadata={'source': 'data/speech.txt'}, page_content='Beyond text and images, generative AI can also create music, code, and even drug molecules. AI-generated music can be used to compose original pieces or to assist human musicians in their creative process. In software development, generative AI can help automate tasks like code generation and debugging. Additionally, researchers are exploring the potential of generative AI to discover new drug candidates by generating novel molecular structures.'),\n",
       " Document(metadata={'source': 'data/speech.txt'}, page_content='While generative AI offers immense potential, it also raises ethical concerns. The ability to create deepfakes and misinformation poses significant risks to society. Ensuring the responsible development and use of generative AI is crucial to mitigate these challenges.'),\n",
       " Document(metadata={'source': 'data/speech.txt'}, page_content='In conclusion, generative AI is a rapidly evolving technology with the power to transform various industries. Its ability to create new and original content has far-reaching implications for creativity, productivity, and innovation. As we continue to explore the possibilities of generative AI, it is essential to address the ethical considerations associated with its development and use.')]"
      ]
     },
     "execution_count": 3,
     "metadata": {},
     "output_type": "execute_result"
    }
   ],
   "source": [
    "from langchain_text_splitters import CharacterTextSplitter\n",
    "\n",
    "text_splitter = CharacterTextSplitter(separator=\"\\n\\n\", chunk_size=100, chunk_overlap=20)\n",
    "text_splitter.split_documents(textLoader)"
   ]
  },
  {
   "cell_type": "markdown",
   "id": "f40d0744-e45c-4236-8f9d-8f6eb6017533",
   "metadata": {},
   "source": [
    "we specified the chunk_size is 100 but the CharacterTextSplitter() is also looking for separator which did not find within chunk_size so\n",
    "\n",
    "Created a chunk of size XXX, which is longer than the specified 100\n",
    "Created a chunk of size XXX, which is longer than the specified 100\n",
    "Created a chunk of size XXX, which is longer than the specified 100\n",
    "..\n",
    ".\n",
    "."
   ]
  },
  {
   "cell_type": "code",
   "execution_count": 8,
   "id": "612beb51-3294-4711-a8a6-0de89714734e",
   "metadata": {
    "scrolled": true,
    "tags": []
   },
   "outputs": [
    {
     "data": {
      "text/plain": [
       "[Document(metadata={}, page_content='## Generative AI: A New Era of Creativity'),\n",
       " Document(metadata={}, page_content='Generative AI, a subset of artificial intelligence, has emerged as a groundbreaking technology'),\n",
       " Document(metadata={}, page_content='technology capable of creating new content, from text and images to music and code. By learning'),\n",
       " Document(metadata={}, page_content='code. By learning from vast datasets, these models can generate original works that are'),\n",
       " Document(metadata={}, page_content='works that are indistinguishable from human-created content.'),\n",
       " Document(metadata={}, page_content='One of the most prominent examples of generative AI is natural language processing (NLP). Large'),\n",
       " Document(metadata={}, page_content='(NLP). Large language models (LLMs) like GPT-3 and LaMDA can generate human-quality text, write'),\n",
       " Document(metadata={}, page_content='text, write different kinds of creative content, translate languages, and even write different'),\n",
       " Document(metadata={}, page_content='write different kinds of creative content. These models are trained on massive amounts of text'),\n",
       " Document(metadata={}, page_content='amounts of text data, allowing them to understand and respond to prompts in a coherent and'),\n",
       " Document(metadata={}, page_content='in a coherent and informative manner.'),\n",
       " Document(metadata={}, page_content='In the realm of image generation, generative adversarial networks (GANs) have revolutionized the'),\n",
       " Document(metadata={}, page_content='revolutionized the field. GANs consist of two neural networks: a generator that creates new images'),\n",
       " Document(metadata={}, page_content='creates new images and a discriminator that evaluates their authenticity. Through a competitive'),\n",
       " Document(metadata={}, page_content='a competitive process, the generator learns to produce increasingly realistic images that deceive'),\n",
       " Document(metadata={}, page_content='images that deceive the discriminator. This technology has applications in various fields,'),\n",
       " Document(metadata={}, page_content='in various fields, including art, design, and gaming.'),\n",
       " Document(metadata={}, page_content='Beyond text and images, generative AI can also create music, code, and even drug molecules.'),\n",
       " Document(metadata={}, page_content='drug molecules. AI-generated music can be used to compose original pieces or to assist human'),\n",
       " Document(metadata={}, page_content='or to assist human musicians in their creative process. In software development, generative AI can'),\n",
       " Document(metadata={}, page_content='generative AI can help automate tasks like code generation and debugging. Additionally, researchers'),\n",
       " Document(metadata={}, page_content='researchers are exploring the potential of generative AI to discover new drug candidates by'),\n",
       " Document(metadata={}, page_content='drug candidates by generating novel molecular structures.'),\n",
       " Document(metadata={}, page_content='While generative AI offers immense potential, it also raises ethical concerns. The ability to'),\n",
       " Document(metadata={}, page_content='The ability to create deepfakes and misinformation poses significant risks to society. Ensuring the'),\n",
       " Document(metadata={}, page_content='Ensuring the responsible development and use of generative AI is crucial to mitigate these'),\n",
       " Document(metadata={}, page_content='to mitigate these challenges.'),\n",
       " Document(metadata={}, page_content='In conclusion, generative AI is a rapidly evolving technology with the power to transform various'),\n",
       " Document(metadata={}, page_content='transform various industries. Its ability to create new and original content has far-reaching'),\n",
       " Document(metadata={}, page_content='has far-reaching implications for creativity, productivity, and innovation. As we continue to'),\n",
       " Document(metadata={}, page_content='As we continue to explore the possibilities of generative AI, it is essential to address the'),\n",
       " Document(metadata={}, page_content='to address the ethical considerations associated with its development and use.')]"
      ]
     },
     "execution_count": 8,
     "metadata": {},
     "output_type": "execute_result"
    }
   ],
   "source": [
    "speech = \"\"\n",
    "with open(\"data/speech.txt\") as f:\n",
    "    speech = f.read()\n",
    "speech\n",
    "\n",
    "from langchain_text_splitters import CharacterTextSplitter\n",
    "text_splitter = RecursiveCharacterTextSplitter(chunk_size=100, chunk_overlap=20)\n",
    "text = text_splitter.create_documents([speech])\n",
    "\n",
    "text"
   ]
  },
  {
   "cell_type": "code",
   "execution_count": 7,
   "id": "f44eb1d1-1d78-4bbe-9ff4-f151798da0de",
   "metadata": {
    "tags": []
   },
   "outputs": [
    {
     "name": "stdout",
     "output_type": "stream",
     "text": [
      "page_content='## Generative AI: A New Era of Creativity'\n",
      "page_content='Generative AI, a subset of artificial intelligence, has emerged as a groundbreaking technology'\n"
     ]
    }
   ],
   "source": [
    "print(text[0])\n",
    "print(text[1])"
   ]
  },
  {
   "cell_type": "code",
   "execution_count": null,
   "id": "2792e64e-aaae-4e17-afe3-668954616d7e",
   "metadata": {},
   "outputs": [],
   "source": []
  }
 ],
 "metadata": {
  "environment": {
   "kernel": "python3",
   "name": "common-cpu.m124",
   "type": "gcloud",
   "uri": "us-docker.pkg.dev/deeplearning-platform-release/gcr.io/base-cpu:m124"
  },
  "kernelspec": {
   "display_name": "Python 3 (Local)",
   "language": "python",
   "name": "python3"
  },
  "language_info": {
   "codemirror_mode": {
    "name": "ipython",
    "version": 3
   },
   "file_extension": ".py",
   "mimetype": "text/x-python",
   "name": "python",
   "nbconvert_exporter": "python",
   "pygments_lexer": "ipython3",
   "version": "3.10.14"
  }
 },
 "nbformat": 4,
 "nbformat_minor": 5
}
